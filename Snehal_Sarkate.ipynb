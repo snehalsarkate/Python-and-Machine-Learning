{
  "nbformat": 4,
  "nbformat_minor": 0,
  "metadata": {
    "colab": {
      "name": "Snehal_Sarkate.ipynb",
      "provenance": [],
      "include_colab_link": true
    },
    "kernelspec": {
      "name": "python3",
      "display_name": "Python 3"
    }
  },
  "cells": [
    {
      "cell_type": "markdown",
      "metadata": {
        "id": "view-in-github",
        "colab_type": "text"
      },
      "source": [
        "<a href=\"https://colab.research.google.com/github/snehalsarkate/Python-and-Machine-Learning/blob/main/Snehal_Sarkate.ipynb\" target=\"_parent\"><img src=\"https://colab.research.google.com/assets/colab-badge.svg\" alt=\"Open In Colab\"/></a>"
      ]
    },
    {
      "cell_type": "markdown",
      "metadata": {
        "id": "YHRjSnaE0SXQ"
      },
      "source": [
        "\r\n",
        "***Iris_dataset Machine Learning Problem :: Using libraries***\r\n",
        "\r\n"
      ]
    },
    {
      "cell_type": "markdown",
      "metadata": {
        "id": "Qm9CywQIXIRI"
      },
      "source": [
        "**Library Importing :**"
      ]
    },
    {
      "cell_type": "code",
      "metadata": {
        "id": "cFofHfFlXNqx"
      },
      "source": [
        "import numpy as np\r\n",
        "import pandas as pd\r\n"
      ],
      "execution_count": null,
      "outputs": []
    },
    {
      "cell_type": "markdown",
      "metadata": {
        "id": "RC6yBrP_QgDb"
      },
      "source": [
        "**Data Exploring :**\r\n",
        "\r\n",
        "\r\n",
        "\r\n"
      ]
    },
    {
      "cell_type": "code",
      "metadata": {
        "id": "KHpVgMd8Qaad"
      },
      "source": [
        "from sklearn.datasets import load_iris\r\n",
        "iris_dataset = load_iris() "
      ],
      "execution_count": null,
      "outputs": []
    },
    {
      "cell_type": "markdown",
      "metadata": {
        "id": "52NYCGyBxLCh"
      },
      "source": [
        "where load_iris is the \"function\" : returning to the dictionary."
      ]
    },
    {
      "cell_type": "markdown",
      "metadata": {
        "id": "MXpRm3rLRiYL"
      },
      "source": [
        "**Dataset :**"
      ]
    },
    {
      "cell_type": "code",
      "metadata": {
        "colab": {
          "base_uri": "https://localhost:8080/"
        },
        "id": "3btHBzvxR6Hx",
        "outputId": "2311e895-d5d5-4e9f-8783-542f6654c0f8"
      },
      "source": [
        "print(\"Keys of iris_dataset :\\n\",format(iris_dataset.keys()))\r\n",
        "\r\n"
      ],
      "execution_count": null,
      "outputs": [
        {
          "output_type": "stream",
          "text": [
            "Keys of iris_dataset :\n",
            " dict_keys(['data', 'target', 'target_names', 'DESCR', 'feature_names', 'filename'])\n"
          ],
          "name": "stdout"
        }
      ]
    },
    {
      "cell_type": "markdown",
      "metadata": {
        "id": "8VzYfckOX9b8"
      },
      "source": [
        "**DESCR = Description :**"
      ]
    },
    {
      "cell_type": "code",
      "metadata": {
        "colab": {
          "base_uri": "https://localhost:8080/"
        },
        "id": "0HW1DUY-Zm36",
        "outputId": "20f1c667-9bc2-4621-83f1-cc20f4e4525e"
      },
      "source": [
        "print(iris_dataset['DESCR'][:199] + \"\\n ..\")"
      ],
      "execution_count": null,
      "outputs": [
        {
          "output_type": "stream",
          "text": [
            ".. _iris_dataset:\n",
            "\n",
            "Iris plants dataset\n",
            "--------------------\n",
            "\n",
            "**Data Set Characteristics:**\n",
            "\n",
            "    :Number of Instances: 150 (50 in each of three classes)\n",
            "    :Number of Attributes: 4 numeric, predictiv\n",
            " ..\n"
          ],
          "name": "stdout"
        }
      ]
    },
    {
      "cell_type": "markdown",
      "metadata": {
        "id": "hY_D_sEmxgmi"
      },
      "source": [
        "Where [:199] is \"Slicing Operator\"\r\n",
        "It can also be written as \r\n",
        "val = iris_dataset['DESCR']\r\n",
        "start_val = val[:199]\r\n",
        "print(start_val + \"\\n ...\")"
      ]
    },
    {
      "cell_type": "markdown",
      "metadata": {
        "id": "kJI3BFI4arKr"
      },
      "source": [
        "**Target names :**\r\n"
      ]
    },
    {
      "cell_type": "code",
      "metadata": {
        "colab": {
          "base_uri": "https://localhost:8080/"
        },
        "id": "StqDMcnzcMLQ",
        "outputId": "f4116093-5c17-4b58-e8ae-b51c173abcbe"
      },
      "source": [
        "print(\"Target Names : \",format(iris_dataset['target_names']))"
      ],
      "execution_count": null,
      "outputs": [
        {
          "output_type": "stream",
          "text": [
            "Target Names :  ['setosa' 'versicolor' 'virginica']\n"
          ],
          "name": "stdout"
        }
      ]
    },
    {
      "cell_type": "markdown",
      "metadata": {
        "id": "_GsdoOFJyLA1"
      },
      "source": [
        "Target Names gives the name of the 3-classes which is to be classified using Machine Learning."
      ]
    },
    {
      "cell_type": "markdown",
      "metadata": {
        "id": "qwg7UtD9c6dl"
      },
      "source": [
        "**Feature Names :**\r\n"
      ]
    },
    {
      "cell_type": "code",
      "metadata": {
        "colab": {
          "base_uri": "https://localhost:8080/"
        },
        "id": "d1oquLVIdBJL",
        "outputId": "42375b61-0b3b-4922-9303-f349552f5e60"
      },
      "source": [
        "print(\"Feature Names : \",format(iris_dataset['feature_names']))"
      ],
      "execution_count": null,
      "outputs": [
        {
          "output_type": "stream",
          "text": [
            "Feature Names :  ['sepal length (cm)', 'sepal width (cm)', 'petal length (cm)', 'petal width (cm)']\n"
          ],
          "name": "stdout"
        }
      ]
    },
    {
      "cell_type": "markdown",
      "metadata": {
        "id": "xR-75wisyZMa"
      },
      "source": [
        "Feature names gives the features of the flowers which is to be classified.\r\n"
      ]
    },
    {
      "cell_type": "markdown",
      "metadata": {
        "id": "Km_kkniKdXCL"
      },
      "source": [
        "**Type of Data :**\r\n"
      ]
    },
    {
      "cell_type": "code",
      "metadata": {
        "colab": {
          "base_uri": "https://localhost:8080/"
        },
        "id": "767JPZZqd2MY",
        "outputId": "cc1cc4ad-bd70-4836-9681-ebd9d3984975"
      },
      "source": [
        "print(\"Type of Data : \",format(type(iris_dataset['data'])))"
      ],
      "execution_count": null,
      "outputs": [
        {
          "output_type": "stream",
          "text": [
            "Type of Data :  <class 'numpy.ndarray'>\n"
          ],
          "name": "stdout"
        }
      ]
    },
    {
      "cell_type": "markdown",
      "metadata": {
        "id": "gSoaiLkBykIA"
      },
      "source": [
        "Tpe of data is the type in which the 3-classes is determined.\r\n"
      ]
    },
    {
      "cell_type": "markdown",
      "metadata": {
        "id": "txM1nYDreAhh"
      },
      "source": [
        "**Shape of Data :**\r\n"
      ]
    },
    {
      "cell_type": "code",
      "metadata": {
        "colab": {
          "base_uri": "https://localhost:8080/"
        },
        "id": "59NdbcqFe4e2",
        "outputId": "6946e440-07d9-4e5a-bbfa-31fbddaa0722"
      },
      "source": [
        "print(\"Shape of Data :\",format(iris_dataset['data'].shape))"
      ],
      "execution_count": null,
      "outputs": [
        {
          "output_type": "stream",
          "text": [
            "Shape of Data : (150, 4)\n"
          ],
          "name": "stdout"
        }
      ]
    },
    {
      "cell_type": "markdown",
      "metadata": {
        "id": "a0qOFY1Tyvs-"
      },
      "source": [
        "Shape of Data is the number of Data provided.\r\n"
      ]
    },
    {
      "cell_type": "markdown",
      "metadata": {
        "id": "idxAoGj3f9Nh"
      },
      "source": [
        "**Displaying First 5 columns of the Data :**\r\n"
      ]
    },
    {
      "cell_type": "code",
      "metadata": {
        "colab": {
          "base_uri": "https://localhost:8080/"
        },
        "id": "7I_sbu2FhbRM",
        "outputId": "0866c322-cd6d-4f81-9ad2-9d4f044674cc"
      },
      "source": [
        "print(\"First Five columns of the Data :\\n \",format(iris_dataset['data'][:5]))"
      ],
      "execution_count": null,
      "outputs": [
        {
          "output_type": "stream",
          "text": [
            "First Five columns of the Data :\n",
            "  [[5.1 3.5 1.4 0.2]\n",
            " [4.9 3.  1.4 0.2]\n",
            " [4.7 3.2 1.3 0.2]\n",
            " [4.6 3.1 1.5 0.2]\n",
            " [5.  3.6 1.4 0.2]]\n"
          ],
          "name": "stdout"
        }
      ]
    },
    {
      "cell_type": "code",
      "metadata": {
        "colab": {
          "base_uri": "https://localhost:8080/"
        },
        "id": "Jx74MqlOwmbr",
        "outputId": "96d6fb1a-b000-43fa-b54a-66b47698e804"
      },
      "source": [
        "print(\"First Five rows of the Data :\\n \",format(iris_dataset['data'][:5]))"
      ],
      "execution_count": null,
      "outputs": [
        {
          "output_type": "stream",
          "text": [
            "First Five rows of the Data :\n",
            "  [[5.1 3.5 1.4 0.2]\n",
            " [4.9 3.  1.4 0.2]\n",
            " [4.7 3.2 1.3 0.2]\n",
            " [4.6 3.1 1.5 0.2]\n",
            " [5.  3.6 1.4 0.2]]\n"
          ],
          "name": "stdout"
        }
      ]
    },
    {
      "cell_type": "markdown",
      "metadata": {
        "id": "cw-2LW77h-VV"
      },
      "source": [
        "**Type of Target :**\r\n"
      ]
    },
    {
      "cell_type": "code",
      "metadata": {
        "colab": {
          "base_uri": "https://localhost:8080/"
        },
        "id": "8IsdN5_rjuiW",
        "outputId": "2f7da85a-065b-4389-ed4e-1f6b737af4f5"
      },
      "source": [
        "print(\"Type of target : \\n\",format(type(iris_dataset['target_names'])))"
      ],
      "execution_count": null,
      "outputs": [
        {
          "output_type": "stream",
          "text": [
            "Type of target : \n",
            " <class 'numpy.ndarray'>\n"
          ],
          "name": "stdout"
        }
      ]
    },
    {
      "cell_type": "markdown",
      "metadata": {
        "id": "36nmRteckXkY"
      },
      "source": [
        "**Shape of Target :**\r\n",
        "\r\n"
      ]
    },
    {
      "cell_type": "code",
      "metadata": {
        "colab": {
          "base_uri": "https://localhost:8080/"
        },
        "id": "pUEt_LWzkjn1",
        "outputId": "afa70cbf-2382-48b9-b9cc-96e38b12bf66"
      },
      "source": [
        "print(\"Shape of target : \\n\",format(iris_dataset['target'].shape))"
      ],
      "execution_count": null,
      "outputs": [
        {
          "output_type": "stream",
          "text": [
            "Shape of target : \n",
            " (150,)\n"
          ],
          "name": "stdout"
        }
      ]
    },
    {
      "cell_type": "markdown",
      "metadata": {
        "id": "JtMhodYzk3TB"
      },
      "source": [
        "**Target :**\r\n"
      ]
    },
    {
      "cell_type": "code",
      "metadata": {
        "colab": {
          "base_uri": "https://localhost:8080/"
        },
        "id": "e_HaS7bQk6kT",
        "outputId": "b410de47-8f11-4cc4-9ab1-9d35330bbe54"
      },
      "source": [
        "print(\"Target :\\n\",format(iris_dataset['target']))"
      ],
      "execution_count": null,
      "outputs": [
        {
          "output_type": "stream",
          "text": [
            "Target :\n",
            " [0 0 0 0 0 0 0 0 0 0 0 0 0 0 0 0 0 0 0 0 0 0 0 0 0 0 0 0 0 0 0 0 0 0 0 0 0\n",
            " 0 0 0 0 0 0 0 0 0 0 0 0 0 1 1 1 1 1 1 1 1 1 1 1 1 1 1 1 1 1 1 1 1 1 1 1 1\n",
            " 1 1 1 1 1 1 1 1 1 1 1 1 1 1 1 1 1 1 1 1 1 1 1 1 1 1 2 2 2 2 2 2 2 2 2 2 2\n",
            " 2 2 2 2 2 2 2 2 2 2 2 2 2 2 2 2 2 2 2 2 2 2 2 2 2 2 2 2 2 2 2 2 2 2 2 2 2\n",
            " 2 2]\n"
          ],
          "name": "stdout"
        }
      ]
    },
    {
      "cell_type": "markdown",
      "metadata": {
        "id": "Ea0QiryllKkC"
      },
      "source": [
        "where 0= setosa, 1=versicolor and 2=virginica"
      ]
    },
    {
      "cell_type": "markdown",
      "metadata": {
        "id": "CP8GEGRxlUcM"
      },
      "source": [
        "**Machine Learing Model :**\r\n"
      ]
    },
    {
      "cell_type": "code",
      "metadata": {
        "id": "6TOZYZZNmRFC"
      },
      "source": [
        "from sklearn.model_selection import train_test_split\r\n",
        "x_train,x_test,y_train,y_test =train_test_split(\r\n",
        "iris_dataset['data'],iris_dataset['target'],random_state=0)"
      ],
      "execution_count": null,
      "outputs": []
    },
    {
      "cell_type": "markdown",
      "metadata": {
        "id": "lVm4UMRboEkf"
      },
      "source": [
        "**Train_Test_Split :**"
      ]
    },
    {
      "cell_type": "code",
      "metadata": {
        "colab": {
          "base_uri": "https://localhost:8080/"
        },
        "id": "bowUUFwkocWP",
        "outputId": "e8f6d61c-547a-49a5-99ec-0477354bf166"
      },
      "source": [
        "print(\"X_Train Shape :\",format(x_train.shape))\r\n",
        "print(\"Y_Train Shape :\",format(y_train.shape))\r\n",
        "print(\"X_Test Shape :\",format(x_test.shape))\r\n",
        "print(\"y_Train Shape :\",format(y_test.shape))\r\n"
      ],
      "execution_count": null,
      "outputs": [
        {
          "output_type": "stream",
          "text": [
            "X_Train Shape : (112, 4)\n",
            "Y_Train Shape : (112,)\n",
            "X_Test Shape : (38, 4)\n",
            "y_Train Shape : (38,)\n"
          ],
          "name": "stdout"
        }
      ]
    },
    {
      "cell_type": "markdown",
      "metadata": {
        "id": "obphLZGiqpbP"
      },
      "source": [
        "**KNeighbours :**\r\n"
      ]
    },
    {
      "cell_type": "code",
      "metadata": {
        "id": "xhI96TrNl3at"
      },
      "source": [
        "from sklearn.neighbors import KNeighborsClassifier\r\n",
        "knn = KNeighborsClassifier(n_neighbors=1)"
      ],
      "execution_count": null,
      "outputs": []
    },
    {
      "cell_type": "code",
      "metadata": {
        "colab": {
          "base_uri": "https://localhost:8080/"
        },
        "id": "VN-VSxNarOQC",
        "outputId": "81279369-2802-494c-ba3a-e7f1bb5c9766"
      },
      "source": [
        "knn.fit(x_train,y_train)"
      ],
      "execution_count": null,
      "outputs": [
        {
          "output_type": "execute_result",
          "data": {
            "text/plain": [
              "KNeighborsClassifier(algorithm='auto', leaf_size=30, metric='minkowski',\n",
              "                     metric_params=None, n_jobs=None, n_neighbors=1, p=2,\n",
              "                     weights='uniform')"
            ]
          },
          "metadata": {
            "tags": []
          },
          "execution_count": 87
        }
      ]
    },
    {
      "cell_type": "markdown",
      "metadata": {
        "id": "5b7Krk-tq8Sq"
      },
      "source": [
        "**Predictions :**\r\n"
      ]
    },
    {
      "cell_type": "code",
      "metadata": {
        "colab": {
          "base_uri": "https://localhost:8080/"
        },
        "id": "f-DwgJsRsRut",
        "outputId": "9c72cd57-5c4e-4bc8-c9c1-215c180db3e4"
      },
      "source": [
        "X_new = np.array([[1,0.2,2.9,5]])\r\n",
        "print(\"X_new.shape :\",format(X_new.shape))"
      ],
      "execution_count": null,
      "outputs": [
        {
          "output_type": "stream",
          "text": [
            "X_new.shape : (1, 4)\n"
          ],
          "name": "stdout"
        }
      ]
    },
    {
      "cell_type": "markdown",
      "metadata": {
        "id": "HYAQ1b2YtQbC"
      },
      "source": [
        "**Prediction of taget :**\r\n"
      ]
    },
    {
      "cell_type": "code",
      "metadata": {
        "colab": {
          "base_uri": "https://localhost:8080/"
        },
        "id": "jZNvDd7Fte4l",
        "outputId": "3cef9d7d-5c57-4011-d926-0d37302d626c"
      },
      "source": [
        "Prediction = knn.predict(X_new)\r\n",
        "\r\n",
        "print(\"Prediction :\",format(Prediction))\r\n",
        "print(\"Predicted target name :\",\r\n",
        "      format(iris_dataset['target_names'][Prediction]))"
      ],
      "execution_count": null,
      "outputs": [
        {
          "output_type": "stream",
          "text": [
            "Prediction : [2]\n",
            "Predicted target name : ['virginica']\n"
          ],
          "name": "stdout"
        }
      ]
    },
    {
      "cell_type": "code",
      "metadata": {
        "colab": {
          "base_uri": "https://localhost:8080/"
        },
        "id": "HYSp--Y5u9cD",
        "outputId": "4f1f5e04-cad4-45b4-f955-6cb4240305ec"
      },
      "source": [
        "y_pred = knn.predict(x_test)\r\n",
        "print(\"Test Set pres=dictions :\",format(y_pred))\r\n"
      ],
      "execution_count": null,
      "outputs": [
        {
          "output_type": "stream",
          "text": [
            "Test Set pres=dictions : [2 1 0 2 0 2 0 1 1 1 2 1 1 1 1 0 1 1 0 0 2 1 0 0 2 0 0 1 1 0 2 1 0 2 2 1 0\n",
            " 2]\n"
          ],
          "name": "stdout"
        }
      ]
    },
    {
      "cell_type": "code",
      "metadata": {
        "colab": {
          "base_uri": "https://localhost:8080/"
        },
        "id": "gm9b_PuMvzaB",
        "outputId": "43045563-93c6-475c-ee26-0b550fb20f96"
      },
      "source": [
        "print(\"Test Set score :\",format(np.mean(y_pred == y_test)))"
      ],
      "execution_count": null,
      "outputs": [
        {
          "output_type": "stream",
          "text": [
            "Test Set score : 0.9736842105263158\n"
          ],
          "name": "stdout"
        }
      ]
    }
  ]
}